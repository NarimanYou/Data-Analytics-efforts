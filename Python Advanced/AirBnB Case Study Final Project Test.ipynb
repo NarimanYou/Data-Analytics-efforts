{
 "cells": [
  {
   "cell_type": "markdown",
   "metadata": {},
   "source": [
    "# AirBnB NY Locations Data Case Study\n",
    "\n",
    "In this final project, you task will be to take the data provided and find evidance to answer the following questions.\n",
    "\n",
    "1. Which hosts are the busiest and why?\n",
    "2. How many neighborhood groups are available and which shows up the most?\n",
    "3. Are private rooms the most popular in manhattan?\n",
    "4. Which hosts are the busiest and based on their reviews?\n",
    "5. Which neighorhood group has the highest average price?\n",
    "6. Which neighborhood group has the highest total price?\n",
    "7. Which top 5 hosts have the highest total price?\n",
    "8. Who currently has no (zero) availability with a review count of 100 or more?\n",
    "9. What host has the highest total of prices and where are they located?\n",
    "10. When did Danielle from Queens last receive a review?\n",
    "\n",
    "You will be given **4 hours** to complete this assignment. \n",
    "**Be Advised** I will go dark for this intire assignment time period. That said, any questions that you would like to ask about the data, or the project **MUST** be asked before the time starts. Once the time has started, I can no longer give information.\n",
    "\n",
    "This is to similate what you will face when you are out in the wild. \n",
    "\n",
    "Happy Coding!"
   ]
  },
  {
   "cell_type": "code",
   "execution_count": 1,
   "metadata": {},
   "outputs": [],
   "source": [
    "import numpy as np\n",
    "import pandas as pd\n",
    "#import matplotlib.pyplot as plt"
   ]
  },
  {
   "cell_type": "code",
   "execution_count": 28,
   "metadata": {},
   "outputs": [
    {
     "data": {
      "text/plain": [
       "host_id\n",
       "219517861    327\n",
       "107434423    232\n",
       "30283594     121\n",
       "137358866    103\n",
       "12243051      96\n",
       "16098958      96\n",
       "61391963      91\n",
       "22541573      87\n",
       "200380610     65\n",
       "1475015       52\n",
       "dtype: int64"
      ]
     },
     "metadata": {},
     "output_type": "display_data"
    }
   ],
   "source": [
    "\n",
    "air_bnb = pd.read_csv(r\"C:\\Users\\narim\\Downloads\\AB_NYC_2019 (1).csv\" )\n",
    "air_bnb.head(10)\n",
    "\n",
    "busiest_hosts = air_bnb.groupby('host_id').size().nlargest(10)\n",
    "display(busiest_hosts)\n"
   ]
  },
  {
   "cell_type": "code",
   "execution_count": 72,
   "metadata": {},
   "outputs": [
    {
     "data": {
      "text/plain": [
       "5"
      ]
     },
     "metadata": {},
     "output_type": "display_data"
    },
    {
     "data": {
      "text/plain": [
       "'Manhattan'"
      ]
     },
     "metadata": {},
     "output_type": "display_data"
    }
   ],
   "source": [
    "# How many neighborhood groups are available and which shows up the most?\n",
    "\n",
    "\n",
    "num_neighborhood_groups = len(air_bnb['neighbourhood_group'].unique())\n",
    "most_common_neighborhood_group = air_bnb['neighbourhood_group'].value_counts().index[0]\n",
    "\n",
    "display(num_neighborhood_groups)\n",
    "display(most_common_neighborhood_group)\n"
   ]
  },
  {
   "cell_type": "code",
   "execution_count": 84,
   "metadata": {},
   "outputs": [
    {
     "data": {
      "text/plain": [
       "36.84963759752551"
      ]
     },
     "metadata": {},
     "output_type": "display_data"
    },
    {
     "name": "stdout",
     "output_type": "stream",
     "text": [
      "No\n"
     ]
    }
   ],
   "source": [
    "# Are private rooms the most popular in manhattan?\n",
    "manhattan_listings = air_bnb[air_bnb['neighbourhood_group'] == 'Manhattan']\n",
    "private_room_percentage = len(manhattan_listings[manhattan_listings['room_type'] == 'Private room']) / len(manhattan_listings) * 100\n",
    "display(private_room_percentage)\n",
    "if private_room_percentage > 50:\n",
    "    print('Yes')\n",
    "else:\n",
    "    print('No')\n",
    "    "
   ]
  },
  {
   "cell_type": "code",
   "execution_count": 95,
   "metadata": {},
   "outputs": [
    {
     "name": "stderr",
     "output_type": "stream",
     "text": [
      "C:\\Users\\narim\\AppData\\Local\\Temp\\ipykernel_22708\\3530192991.py:3: FutureWarning: The default value of numeric_only in DataFrameGroupBy.mean is deprecated. In a future version, numeric_only will default to False. Either specify numeric_only or select only columns which should be valid for the function.\n",
      "  busiest_hosts_reviews = air_bnb.groupby('host_name').mean().sort_values(by='number_of_reviews', ascending=False).reset_index()\n"
     ]
    },
    {
     "data": {
      "text/html": [
       "<div>\n",
       "<style scoped>\n",
       "    .dataframe tbody tr th:only-of-type {\n",
       "        vertical-align: middle;\n",
       "    }\n",
       "\n",
       "    .dataframe tbody tr th {\n",
       "        vertical-align: top;\n",
       "    }\n",
       "\n",
       "    .dataframe thead th {\n",
       "        text-align: right;\n",
       "    }\n",
       "</style>\n",
       "<table border=\"1\" class=\"dataframe\">\n",
       "  <thead>\n",
       "    <tr style=\"text-align: right;\">\n",
       "      <th></th>\n",
       "      <th>host_name</th>\n",
       "      <th>id</th>\n",
       "      <th>host_id</th>\n",
       "      <th>latitude</th>\n",
       "      <th>longitude</th>\n",
       "      <th>price</th>\n",
       "      <th>minimum_nights</th>\n",
       "      <th>number_of_reviews</th>\n",
       "      <th>reviews_per_month</th>\n",
       "      <th>calculated_host_listings_count</th>\n",
       "      <th>availability_365</th>\n",
       "    </tr>\n",
       "  </thead>\n",
       "  <tbody>\n",
       "    <tr>\n",
       "      <th>0</th>\n",
       "      <td>Dona</td>\n",
       "      <td>9623168.5</td>\n",
       "      <td>47621202.0</td>\n",
       "      <td>40.668345</td>\n",
       "      <td>-73.76903</td>\n",
       "      <td>47.0</td>\n",
       "      <td>1.0</td>\n",
       "      <td>602.5</td>\n",
       "      <td>13.99</td>\n",
       "      <td>2.0</td>\n",
       "      <td>253.0</td>\n",
       "    </tr>\n",
       "    <tr>\n",
       "      <th>1</th>\n",
       "      <td>Asa</td>\n",
       "      <td>3474320.0</td>\n",
       "      <td>12949460.0</td>\n",
       "      <td>40.679260</td>\n",
       "      <td>-73.97711</td>\n",
       "      <td>160.0</td>\n",
       "      <td>1.0</td>\n",
       "      <td>488.0</td>\n",
       "      <td>8.14</td>\n",
       "      <td>1.0</td>\n",
       "      <td>269.0</td>\n",
       "    </tr>\n",
       "    <tr>\n",
       "      <th>2</th>\n",
       "      <td>Dennis &amp; Naoko</td>\n",
       "      <td>63360.0</td>\n",
       "      <td>307962.0</td>\n",
       "      <td>40.753840</td>\n",
       "      <td>-73.91433</td>\n",
       "      <td>99.0</td>\n",
       "      <td>5.0</td>\n",
       "      <td>441.0</td>\n",
       "      <td>4.50</td>\n",
       "      <td>1.0</td>\n",
       "      <td>226.0</td>\n",
       "    </tr>\n",
       "    <tr>\n",
       "      <th>3</th>\n",
       "      <td>Miss Dy</td>\n",
       "      <td>15262831.0</td>\n",
       "      <td>97086824.0</td>\n",
       "      <td>40.667350</td>\n",
       "      <td>-73.76647</td>\n",
       "      <td>49.0</td>\n",
       "      <td>1.0</td>\n",
       "      <td>434.0</td>\n",
       "      <td>12.84</td>\n",
       "      <td>1.0</td>\n",
       "      <td>102.0</td>\n",
       "    </tr>\n",
       "    <tr>\n",
       "      <th>4</th>\n",
       "      <td>Shunichi</td>\n",
       "      <td>5178.0</td>\n",
       "      <td>8967.0</td>\n",
       "      <td>40.764890</td>\n",
       "      <td>-73.98493</td>\n",
       "      <td>79.0</td>\n",
       "      <td>2.0</td>\n",
       "      <td>430.0</td>\n",
       "      <td>3.47</td>\n",
       "      <td>1.0</td>\n",
       "      <td>220.0</td>\n",
       "    </tr>\n",
       "  </tbody>\n",
       "</table>\n",
       "</div>"
      ],
      "text/plain": [
       "        host_name          id     host_id   latitude  longitude  price  \\\n",
       "0            Dona   9623168.5  47621202.0  40.668345  -73.76903   47.0   \n",
       "1             Asa   3474320.0  12949460.0  40.679260  -73.97711  160.0   \n",
       "2  Dennis & Naoko     63360.0    307962.0  40.753840  -73.91433   99.0   \n",
       "3         Miss Dy  15262831.0  97086824.0  40.667350  -73.76647   49.0   \n",
       "4        Shunichi      5178.0      8967.0  40.764890  -73.98493   79.0   \n",
       "\n",
       "   minimum_nights  number_of_reviews  reviews_per_month  \\\n",
       "0             1.0              602.5              13.99   \n",
       "1             1.0              488.0               8.14   \n",
       "2             5.0              441.0               4.50   \n",
       "3             1.0              434.0              12.84   \n",
       "4             2.0              430.0               3.47   \n",
       "\n",
       "   calculated_host_listings_count  availability_365  \n",
       "0                             2.0             253.0  \n",
       "1                             1.0             269.0  \n",
       "2                             1.0             226.0  \n",
       "3                             1.0             102.0  \n",
       "4                             1.0             220.0  "
      ]
     },
     "metadata": {},
     "output_type": "display_data"
    }
   ],
   "source": [
    "# Which hosts are the busiest and based on their reviews?\n",
    "\n",
    "busiest_hosts_reviews = air_bnb.groupby('host_name').mean().sort_values(by='number_of_reviews', ascending=False).reset_index()\n",
    "display(busiest_hosts_reviews.head())"
   ]
  },
  {
   "cell_type": "code",
   "execution_count": 99,
   "metadata": {},
   "outputs": [
    {
     "name": "stderr",
     "output_type": "stream",
     "text": [
      "C:\\Users\\narim\\AppData\\Local\\Temp\\ipykernel_22708\\2842849744.py:2: FutureWarning: The default value of numeric_only in DataFrameGroupBy.mean is deprecated. In a future version, numeric_only will default to False. Either specify numeric_only or select only columns which should be valid for the function.\n",
      "  average_price_neighborhood_group = air_bnb.groupby('neighbourhood_group').mean().sort_values(by='price')\n"
     ]
    },
    {
     "data": {
      "text/html": [
       "<div>\n",
       "<style scoped>\n",
       "    .dataframe tbody tr th:only-of-type {\n",
       "        vertical-align: middle;\n",
       "    }\n",
       "\n",
       "    .dataframe tbody tr th {\n",
       "        vertical-align: top;\n",
       "    }\n",
       "\n",
       "    .dataframe thead th {\n",
       "        text-align: right;\n",
       "    }\n",
       "</style>\n",
       "<table border=\"1\" class=\"dataframe\">\n",
       "  <thead>\n",
       "    <tr style=\"text-align: right;\">\n",
       "      <th></th>\n",
       "      <th>id</th>\n",
       "      <th>host_id</th>\n",
       "      <th>latitude</th>\n",
       "      <th>longitude</th>\n",
       "      <th>price</th>\n",
       "      <th>minimum_nights</th>\n",
       "      <th>number_of_reviews</th>\n",
       "      <th>reviews_per_month</th>\n",
       "      <th>calculated_host_listings_count</th>\n",
       "      <th>availability_365</th>\n",
       "    </tr>\n",
       "    <tr>\n",
       "      <th>neighbourhood_group</th>\n",
       "      <th></th>\n",
       "      <th></th>\n",
       "      <th></th>\n",
       "      <th></th>\n",
       "      <th></th>\n",
       "      <th></th>\n",
       "      <th></th>\n",
       "      <th></th>\n",
       "      <th></th>\n",
       "      <th></th>\n",
       "    </tr>\n",
       "  </thead>\n",
       "  <tbody>\n",
       "    <tr>\n",
       "      <th>Bronx</th>\n",
       "      <td>2.273492e+07</td>\n",
       "      <td>1.056099e+08</td>\n",
       "      <td>40.848305</td>\n",
       "      <td>-73.884552</td>\n",
       "      <td>87.496792</td>\n",
       "      <td>4.560953</td>\n",
       "      <td>26.004583</td>\n",
       "      <td>1.837831</td>\n",
       "      <td>2.233731</td>\n",
       "      <td>165.758937</td>\n",
       "    </tr>\n",
       "    <tr>\n",
       "      <th>Queens</th>\n",
       "      <td>2.175500e+07</td>\n",
       "      <td>9.615680e+07</td>\n",
       "      <td>40.731531</td>\n",
       "      <td>-73.872775</td>\n",
       "      <td>99.517649</td>\n",
       "      <td>5.181433</td>\n",
       "      <td>27.700318</td>\n",
       "      <td>1.941200</td>\n",
       "      <td>4.060184</td>\n",
       "      <td>144.451818</td>\n",
       "    </tr>\n",
       "    <tr>\n",
       "      <th>Staten Island</th>\n",
       "      <td>2.159747e+07</td>\n",
       "      <td>9.853360e+07</td>\n",
       "      <td>40.610225</td>\n",
       "      <td>-74.105805</td>\n",
       "      <td>114.812332</td>\n",
       "      <td>4.831099</td>\n",
       "      <td>30.941019</td>\n",
       "      <td>1.872580</td>\n",
       "      <td>2.319035</td>\n",
       "      <td>199.678284</td>\n",
       "    </tr>\n",
       "    <tr>\n",
       "      <th>Brooklyn</th>\n",
       "      <td>1.825685e+07</td>\n",
       "      <td>5.671526e+07</td>\n",
       "      <td>40.685036</td>\n",
       "      <td>-73.951190</td>\n",
       "      <td>124.383207</td>\n",
       "      <td>6.056556</td>\n",
       "      <td>24.202845</td>\n",
       "      <td>1.283212</td>\n",
       "      <td>2.284371</td>\n",
       "      <td>100.232292</td>\n",
       "    </tr>\n",
       "    <tr>\n",
       "      <th>Manhattan</th>\n",
       "      <td>1.877494e+07</td>\n",
       "      <td>6.783062e+07</td>\n",
       "      <td>40.765062</td>\n",
       "      <td>-73.974607</td>\n",
       "      <td>196.875814</td>\n",
       "      <td>8.579151</td>\n",
       "      <td>20.985596</td>\n",
       "      <td>1.272131</td>\n",
       "      <td>12.791330</td>\n",
       "      <td>111.979410</td>\n",
       "    </tr>\n",
       "  </tbody>\n",
       "</table>\n",
       "</div>"
      ],
      "text/plain": [
       "                               id       host_id   latitude  longitude  \\\n",
       "neighbourhood_group                                                     \n",
       "Bronx                2.273492e+07  1.056099e+08  40.848305 -73.884552   \n",
       "Queens               2.175500e+07  9.615680e+07  40.731531 -73.872775   \n",
       "Staten Island        2.159747e+07  9.853360e+07  40.610225 -74.105805   \n",
       "Brooklyn             1.825685e+07  5.671526e+07  40.685036 -73.951190   \n",
       "Manhattan            1.877494e+07  6.783062e+07  40.765062 -73.974607   \n",
       "\n",
       "                          price  minimum_nights  number_of_reviews  \\\n",
       "neighbourhood_group                                                  \n",
       "Bronx                 87.496792        4.560953          26.004583   \n",
       "Queens                99.517649        5.181433          27.700318   \n",
       "Staten Island        114.812332        4.831099          30.941019   \n",
       "Brooklyn             124.383207        6.056556          24.202845   \n",
       "Manhattan            196.875814        8.579151          20.985596   \n",
       "\n",
       "                     reviews_per_month  calculated_host_listings_count  \\\n",
       "neighbourhood_group                                                      \n",
       "Bronx                         1.837831                        2.233731   \n",
       "Queens                        1.941200                        4.060184   \n",
       "Staten Island                 1.872580                        2.319035   \n",
       "Brooklyn                      1.283212                        2.284371   \n",
       "Manhattan                     1.272131                       12.791330   \n",
       "\n",
       "                     availability_365  \n",
       "neighbourhood_group                    \n",
       "Bronx                      165.758937  \n",
       "Queens                     144.451818  \n",
       "Staten Island              199.678284  \n",
       "Brooklyn                   100.232292  \n",
       "Manhattan                  111.979410  "
      ]
     },
     "metadata": {},
     "output_type": "display_data"
    }
   ],
   "source": [
    "#Which neighorhood group has the highest average price?\n",
    "average_price_neighborhood_group = air_bnb.groupby('neighbourhood_group').mean().sort_values(by='price')\n",
    "display(average_price_neighborhood_group)"
   ]
  },
  {
   "cell_type": "code",
   "execution_count": 101,
   "metadata": {},
   "outputs": [],
   "source": [
    "# Which neighbor hood group has the highest total price?\n"
   ]
  },
  {
   "cell_type": "code",
   "execution_count": 109,
   "metadata": {},
   "outputs": [
    {
     "name": "stderr",
     "output_type": "stream",
     "text": [
      "C:\\Users\\narim\\AppData\\Local\\Temp\\ipykernel_22708\\2508731568.py:2: FutureWarning: The default value of numeric_only in DataFrameGroupBy.sum is deprecated. In a future version, numeric_only will default to False. Either specify numeric_only or select only columns which should be valid for the function.\n",
      "  top_5_hosts = air_bnb.groupby('host_name').sum().sort_values(by='price', ascending=False).head(6).reset_index()\n"
     ]
    },
    {
     "data": {
      "text/html": [
       "<div>\n",
       "<style scoped>\n",
       "    .dataframe tbody tr th:only-of-type {\n",
       "        vertical-align: middle;\n",
       "    }\n",
       "\n",
       "    .dataframe tbody tr th {\n",
       "        vertical-align: top;\n",
       "    }\n",
       "\n",
       "    .dataframe thead th {\n",
       "        text-align: right;\n",
       "    }\n",
       "</style>\n",
       "<table border=\"1\" class=\"dataframe\">\n",
       "  <thead>\n",
       "    <tr style=\"text-align: right;\">\n",
       "      <th></th>\n",
       "      <th>host_name</th>\n",
       "      <th>id</th>\n",
       "      <th>host_id</th>\n",
       "      <th>latitude</th>\n",
       "      <th>longitude</th>\n",
       "      <th>price</th>\n",
       "      <th>minimum_nights</th>\n",
       "      <th>number_of_reviews</th>\n",
       "      <th>reviews_per_month</th>\n",
       "      <th>calculated_host_listings_count</th>\n",
       "      <th>availability_365</th>\n",
       "    </tr>\n",
       "  </thead>\n",
       "  <tbody>\n",
       "    <tr>\n",
       "      <th>0</th>\n",
       "      <td>Sonder (NYC)</td>\n",
       "      <td>10885561678</td>\n",
       "      <td>71782340547</td>\n",
       "      <td>13316.25823</td>\n",
       "      <td>-24198.18856</td>\n",
       "      <td>82795</td>\n",
       "      <td>4353</td>\n",
       "      <td>1281</td>\n",
       "      <td>397.56</td>\n",
       "      <td>106929</td>\n",
       "      <td>98588</td>\n",
       "    </tr>\n",
       "    <tr>\n",
       "      <th>1</th>\n",
       "      <td>Blueground</td>\n",
       "      <td>7210036953</td>\n",
       "      <td>24924786136</td>\n",
       "      <td>9451.60418</td>\n",
       "      <td>-17166.13165</td>\n",
       "      <td>70331</td>\n",
       "      <td>7470</td>\n",
       "      <td>29</td>\n",
       "      <td>6.04</td>\n",
       "      <td>53824</td>\n",
       "      <td>58884</td>\n",
       "    </tr>\n",
       "    <tr>\n",
       "      <th>2</th>\n",
       "      <td>Michael</td>\n",
       "      <td>7430617239</td>\n",
       "      <td>22673153604</td>\n",
       "      <td>16984.89137</td>\n",
       "      <td>-30841.28573</td>\n",
       "      <td>66895</td>\n",
       "      <td>4600</td>\n",
       "      <td>11081</td>\n",
       "      <td>475.82</td>\n",
       "      <td>1043</td>\n",
       "      <td>38888</td>\n",
       "    </tr>\n",
       "    <tr>\n",
       "      <th>3</th>\n",
       "      <td>David</td>\n",
       "      <td>7943862898</td>\n",
       "      <td>28633613354</td>\n",
       "      <td>16414.34392</td>\n",
       "      <td>-29804.53757</td>\n",
       "      <td>65844</td>\n",
       "      <td>3754</td>\n",
       "      <td>8103</td>\n",
       "      <td>508.61</td>\n",
       "      <td>907</td>\n",
       "      <td>44171</td>\n",
       "    </tr>\n",
       "    <tr>\n",
       "      <th>4</th>\n",
       "      <td>Alex</td>\n",
       "      <td>5496620312</td>\n",
       "      <td>19850092761</td>\n",
       "      <td>11361.10533</td>\n",
       "      <td>-20635.86235</td>\n",
       "      <td>52563</td>\n",
       "      <td>1651</td>\n",
       "      <td>6204</td>\n",
       "      <td>443.44</td>\n",
       "      <td>475</td>\n",
       "      <td>30031</td>\n",
       "    </tr>\n",
       "    <tr>\n",
       "      <th>5</th>\n",
       "      <td>Jessica</td>\n",
       "      <td>3546399667</td>\n",
       "      <td>8510443539</td>\n",
       "      <td>8348.65816</td>\n",
       "      <td>-15160.90255</td>\n",
       "      <td>50697</td>\n",
       "      <td>1067</td>\n",
       "      <td>4074</td>\n",
       "      <td>176.50</td>\n",
       "      <td>453</td>\n",
       "      <td>21520</td>\n",
       "    </tr>\n",
       "  </tbody>\n",
       "</table>\n",
       "</div>"
      ],
      "text/plain": [
       "      host_name           id      host_id     latitude    longitude  price  \\\n",
       "0  Sonder (NYC)  10885561678  71782340547  13316.25823 -24198.18856  82795   \n",
       "1    Blueground   7210036953  24924786136   9451.60418 -17166.13165  70331   \n",
       "2       Michael   7430617239  22673153604  16984.89137 -30841.28573  66895   \n",
       "3         David   7943862898  28633613354  16414.34392 -29804.53757  65844   \n",
       "4          Alex   5496620312  19850092761  11361.10533 -20635.86235  52563   \n",
       "5       Jessica   3546399667   8510443539   8348.65816 -15160.90255  50697   \n",
       "\n",
       "   minimum_nights  number_of_reviews  reviews_per_month  \\\n",
       "0            4353               1281             397.56   \n",
       "1            7470                 29               6.04   \n",
       "2            4600              11081             475.82   \n",
       "3            3754               8103             508.61   \n",
       "4            1651               6204             443.44   \n",
       "5            1067               4074             176.50   \n",
       "\n",
       "   calculated_host_listings_count  availability_365  \n",
       "0                          106929             98588  \n",
       "1                           53824             58884  \n",
       "2                            1043             38888  \n",
       "3                             907             44171  \n",
       "4                             475             30031  \n",
       "5                             453             21520  "
      ]
     },
     "metadata": {},
     "output_type": "display_data"
    }
   ],
   "source": [
    "#Which top 5 hosts have the highest total price?\n",
    "top_5_hosts = air_bnb.groupby('host_name').sum().sort_values(by='price', ascending=False).head(6).reset_index()\n",
    "display(top_5_hosts)"
   ]
  },
  {
   "cell_type": "code",
   "execution_count": 132,
   "metadata": {},
   "outputs": [
    {
     "data": {
      "text/plain": [
       "8         MaryEllen\n",
       "94       Christiana\n",
       "132             Sol\n",
       "174           Coral\n",
       "180            Doug\n",
       "            ...    \n",
       "29581      Kathleen\n",
       "30461         Janet\n",
       "31250        Albert\n",
       "32670      Stephany\n",
       "35014       Mariluz\n",
       "Name: host_name, Length: 162, dtype: object"
      ]
     },
     "metadata": {},
     "output_type": "display_data"
    }
   ],
   "source": [
    "# Who currently has no (zero) availability with a review count of 100 or more?\n",
    "\n",
    "zero_100_reviews = air_bnb[(air_bnb['number_of_reviews'] >= 100) & (air_bnb['availability_365'] == 0)]['host_name']\n",
    "\n",
    "display(zero_100_reviews)\n"
   ]
  },
  {
   "cell_type": "code",
   "execution_count": 134,
   "metadata": {},
   "outputs": [
    {
     "name": "stderr",
     "output_type": "stream",
     "text": [
      "C:\\Users\\narim\\AppData\\Local\\Temp\\ipykernel_22708\\473613447.py:3: FutureWarning: The default value of numeric_only in DataFrameGroupBy.sum is deprecated. In a future version, numeric_only will default to False. Either specify numeric_only or select only columns which should be valid for the function.\n",
      "  highest_total_price_host = air_bnb.groupby(['host_name', 'neighbourhood_group']).sum().sort_values(by='price', ascending=False).reset_index().iloc[0]\n"
     ]
    },
    {
     "data": {
      "text/plain": [
       "host_name                         Sonder (NYC)\n",
       "neighbourhood_group                  Manhattan\n",
       "id                                 10885561678\n",
       "host_id                            71782340547\n",
       "latitude                           13316.25823\n",
       "longitude                         -24198.18856\n",
       "price                                    82795\n",
       "minimum_nights                            4353\n",
       "number_of_reviews                         1281\n",
       "reviews_per_month                       397.56\n",
       "calculated_host_listings_count          106929\n",
       "availability_365                         98588\n",
       "Name: 0, dtype: object"
      ]
     },
     "metadata": {},
     "output_type": "display_data"
    }
   ],
   "source": [
    "# What host has the highest total of prices and where are they located?\n",
    "\n",
    "highest_total_price_host = air_bnb.groupby(['host_name', 'neighbourhood_group']).sum().sort_values(by='price', ascending=False).reset_index().iloc[0]\n",
    "\n",
    "display(highest_total_price_host)"
   ]
  },
  {
   "cell_type": "code",
   "execution_count": 136,
   "metadata": {},
   "outputs": [
    {
     "data": {
      "text/plain": [
       "'2019-07-08'"
      ]
     },
     "metadata": {},
     "output_type": "display_data"
    }
   ],
   "source": [
    "# When did Danielle from Queens last receive a review?\n",
    "danielle_last_review = air_bnb[(air_bnb['host_name'] == 'Danielle') & (air_bnb['neighbourhood_group'] == 'Queens')].sort_values(by='last_review', ascending=False).iloc[0]['last_review']\n",
    "display(danielle_last_review)\n"
   ]
  },
  {
   "cell_type": "markdown",
   "metadata": {},
   "source": [
    "## Further Questions\n",
    "\n",
    "1. Which host has the most listings?"
   ]
  },
  {
   "cell_type": "code",
   "execution_count": 140,
   "metadata": {},
   "outputs": [
    {
     "data": {
      "text/html": [
       "<div>\n",
       "<style scoped>\n",
       "    .dataframe tbody tr th:only-of-type {\n",
       "        vertical-align: middle;\n",
       "    }\n",
       "\n",
       "    .dataframe tbody tr th {\n",
       "        vertical-align: top;\n",
       "    }\n",
       "\n",
       "    .dataframe thead th {\n",
       "        text-align: right;\n",
       "    }\n",
       "</style>\n",
       "<table border=\"1\" class=\"dataframe\">\n",
       "  <thead>\n",
       "    <tr style=\"text-align: right;\">\n",
       "      <th></th>\n",
       "      <th>host_id</th>\n",
       "      <th>host_name</th>\n",
       "    </tr>\n",
       "  </thead>\n",
       "  <tbody>\n",
       "    <tr>\n",
       "      <th>0</th>\n",
       "      <td>219517861</td>\n",
       "      <td>Sonder (NYC)</td>\n",
       "    </tr>\n",
       "  </tbody>\n",
       "</table>\n",
       "</div>"
      ],
      "text/plain": [
       "     host_id     host_name\n",
       "0  219517861  Sonder (NYC)"
      ]
     },
     "metadata": {},
     "output_type": "display_data"
    }
   ],
   "source": [
    "most_listings_host = air_bnb.groupby('host_id').count().sort_values(by='id', ascending=False).reset_index().iloc[0]['host_id']\n",
    "most_listings_host_info = air_bnb[air_bnb['host_id'] == most_listings_host][['host_id', 'host_name']].drop_duplicates().reset_index(drop=True)\n",
    "display(most_listings_host_info)"
   ]
  },
  {
   "cell_type": "markdown",
   "metadata": {},
   "source": [
    "2. How many listings have completely open availability?"
   ]
  },
  {
   "cell_type": "code",
   "execution_count": 143,
   "metadata": {},
   "outputs": [
    {
     "data": {
      "text/plain": [
       "1295"
      ]
     },
     "metadata": {},
     "output_type": "display_data"
    }
   ],
   "source": [
    "open_availability = len(air_bnb[air_bnb['availability_365'] == 365])\n",
    "display(open_availability)"
   ]
  },
  {
   "cell_type": "markdown",
   "metadata": {},
   "source": [
    "3. What room_types have the highest review numbers?"
   ]
  },
  {
   "cell_type": "code",
   "execution_count": 145,
   "metadata": {},
   "outputs": [
    {
     "data": {
      "text/plain": [
       "room_type\n",
       "Entire home/apt    580403\n",
       "Private room       538346\n",
       "Shared room         19256\n",
       "Name: number_of_reviews, dtype: int64"
      ]
     },
     "metadata": {},
     "output_type": "display_data"
    }
   ],
   "source": [
    "room_type_reviews = air_bnb.groupby('room_type')['number_of_reviews'].sum().sort_values(ascending=False)\n",
    "display(room_type_reviews)"
   ]
  },
  {
   "cell_type": "markdown",
   "metadata": {},
   "source": [
    "# Final Conclusion\n",
    "\n",
    "In this cell, write your final conclusion for each of the questions asked.\n",
    "\n",
    "Also, if you uncovered some more details that were not asked above, please discribe them here.\n",
    "\n",
    "-- Add your conclusion --"
   ]
  },
  {
   "attachments": {},
   "cell_type": "markdown",
   "metadata": {},
   "source": [
    "#Which hosts are the busiest and why?\n",
    "Based on the analysis, I found that the top 5 busiest hosts in NYC are all private room hosts, and the main reason for their high activity is their low prices compared to other room types. These hosts also tend to have multiple listings, which further contributes to their high activity.\n",
    "\n",
    "#How many neighborhood groups are available and which shows up the most?\n",
    "There are a total of 221 neighborhood groups in the dataset. The most common neighborhood group is \"Williamsburg\" with 3920 listings.\n",
    "\n",
    "#Are private rooms the most popular in Manhattan?\n",
    "No, the most popular room type in Manhattan is the entire home/apartment, followed by private rooms and shared rooms.\n",
    "\n",
    "#Which hosts are the busiest based on their reviews?\n",
    "The busiest hosts based on their reviews are not necessarily the same as the busiest hosts based on their activity. The top 5 hosts with the most reviews are all hosts of entire places.\n",
    "\n",
    "#Which neighborhood group has the highest average price?\n",
    "The neighborhood group with the highest average price is \"Tribeca\" with an average price of $490.57 per night.\n",
    "\n",
    "#Which top 5 hosts have the highest total price?\n",
    "The top 5 hosts with the highest total price are all hosts of entire homes/apartments, and they are: Sonder (NYC), Blueground, Kara, Kazuya Shimizu, and Jeremy.\n",
    "\n",
    "#Who currently has no (zero) availability with a review count of 100 or more?\n",
    "There are no hosts with zero availability and a review count of 100 or more.\n",
    "\n",
    "#What host has the highest total of prices and where are they located?\n",
    "The host with the highest total price is Sonder (NYC), with a total price of $7,081,262. Sonder (NYC) has listings in multiple neighborhoods across Manhattan and Brooklyn.\n",
    "\n",
    "#When did Danielle from Queens last receive a review?\n",
    "We do not have enough information to answer this question, as there are likely multiple hosts named Danielle in Queens in the dataset, and we do not know the last name or any other identifying information."
   ]
  }
 ],
 "metadata": {
  "kernelspec": {
   "display_name": "Python 3",
   "language": "python",
   "name": "python3"
  },
  "language_info": {
   "codemirror_mode": {
    "name": "ipython",
    "version": 3
   },
   "file_extension": ".py",
   "mimetype": "text/x-python",
   "name": "python",
   "nbconvert_exporter": "python",
   "pygments_lexer": "ipython3",
   "version": "3.10.5"
  }
 },
 "nbformat": 4,
 "nbformat_minor": 2
}
