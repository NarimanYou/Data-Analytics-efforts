{
 "cells": [
  {
   "attachments": {},
   "cell_type": "markdown",
   "metadata": {},
   "source": [
    "# Parking Garage Project\n",
    "\n",
    "Your assignment for today is to create a parking garage class to get more familiar with Object Oriented Programming(OOP). \n",
    "\n",
    "Your parking gargage class should have the following methods:\n",
    "- take_ticket\n",
    "   - This should decrease the amount of tickets available by 1\n",
    "   - This should decrease the amount of parking_spaces available by 1\n",
    "- pay_for_parking\n",
    "   - Display an input that waits for an amount from the user and store it in a variable\n",
    "   - If the payment variable is not empty then ->  display a message to the user that their ticket has been paid and they have 15mins to leave\n",
    "   - This should update the \"current_ticket\" dictionary key \"paid\" to True\n",
    "-leave_garage\n",
    "   - If the ticket has been paid, display a message of \"Thank You, have a nice day\"\n",
    "   - If the ticket has not been paid, display an input prompt for payment\n",
    "      - Once paid, display message \"Thank you, have a nice day!\"\n",
    "   - Update parking_spaces list to increase by 1\n",
    "   - Update tickets list to increase by 1\n",
    "\n",
    "You will need a few attributes as well:\n",
    "- tickets -> list\n",
    "- parking_spaces -> list\n",
    "- current_ticket -> dictionary"
   ]
  },
  {
   "cell_type": "code",
   "execution_count": 31,
   "metadata": {},
   "outputs": [],
   "source": [
    "class ParkingGarage:\n",
    "    def __init__(self, num_tickets, num_spaces):\n",
    "        self.num_tickets = num_tickets\n",
    "        self.num_spaces = num_spaces\n",
    "        self.current_ticket = {}\n",
    "\n",
    "    def take_ticket(self):\n",
    "        if self.num_tickets > 0 and self.num_spaces > 0:\n",
    "            self.num_tickets -= 1\n",
    "            self.num_spaces -= 1\n",
    "            self.current_ticket['paid'] = False\n",
    "            self.current_ticket['ticket_number'] = self.num_tickets + 1\n",
    "            print(f\"Here is your ticket #{self.current_ticket['ticket_number']}.\")\n",
    "        elif self.num_tickets == 0:\n",
    "            print(\"Sorry, all tickets have been issued. Please come back later.\")\n",
    "        else:\n",
    "            print(\"Sorry, the garage is full. Please come back later.\")\n",
    "\n",
    "    def pay_for_parking(self):\n",
    "        if 'ticket_number' not in self.current_ticket:\n",
    "            print(\"Please take a ticket first.\")\n",
    "        else:\n",
    "            if self.current_ticket['paid']:\n",
    "                print(\"This ticket has already been paid.\")\n",
    "            else:\n",
    "                payment = input(\"Please insert payment amount: \")\n",
    "                if payment:\n",
    "                    print(\"Your ticket has been paid. You have 15 minutes to leave.\")\n",
    "                    self.current_ticket['paid'] = True\n",
    "                else:\n",
    "                    print(\"Payment not received. Please insert payment before leaving.\")\n"
   ]
  }
 ],
 "metadata": {
  "kernelspec": {
   "display_name": "Python 3",
   "language": "python",
   "name": "python3"
  },
  "language_info": {
   "codemirror_mode": {
    "name": "ipython",
    "version": 3
   },
   "file_extension": ".py",
   "mimetype": "text/x-python",
   "name": "python",
   "nbconvert_exporter": "python",
   "pygments_lexer": "ipython3",
   "version": "3.7.3"
  }
 },
 "nbformat": 4,
 "nbformat_minor": 2
}
