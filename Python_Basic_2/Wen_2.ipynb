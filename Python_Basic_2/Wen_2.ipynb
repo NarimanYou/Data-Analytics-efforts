{
 "cells": [
  {
   "cell_type": "code",
   "execution_count": 2,
   "metadata": {},
   "outputs": [
    {
     "ename": "ValueError",
     "evalue": "could not convert string to float: ''",
     "output_type": "error",
     "traceback": [
      "\u001b[1;31m---------------------------------------------------------------------------\u001b[0m",
      "\u001b[1;31mValueError\u001b[0m                                Traceback (most recent call last)",
      "Cell \u001b[1;32mIn[2], line 3\u001b[0m\n\u001b[0;32m      1\u001b[0m \u001b[39mimport\u001b[39;00m \u001b[39mmy_module\u001b[39;00m\n\u001b[1;32m----> 3\u001b[0m length \u001b[39m=\u001b[39m \u001b[39mfloat\u001b[39;49m(\u001b[39minput\u001b[39;49m(\u001b[39m\"\u001b[39;49m\u001b[39mEnter the length of the house in feet: \u001b[39;49m\u001b[39m\"\u001b[39;49m))\n\u001b[0;32m      4\u001b[0m width \u001b[39m=\u001b[39m \u001b[39mfloat\u001b[39m(\u001b[39minput\u001b[39m(\u001b[39m\"\u001b[39m\u001b[39mEnter the width of the house in feet: \u001b[39m\u001b[39m\"\u001b[39m))\n\u001b[0;32m      5\u001b[0m square_footage \u001b[39m=\u001b[39m my_module\u001b[39m.\u001b[39mcalculate_square_footage(length, width)\n",
      "\u001b[1;31mValueError\u001b[0m: could not convert string to float: ''"
     ]
    }
   ],
   "source": [
    "import my_module\n",
    "\n",
    "length = float(input(\"Enter the length of the house in feet: \"))\n",
    "width = float(input(\"Enter the width of the house in feet: \"))\n",
    "square_footage = my_module.calculate_square_footage(length, width)\n",
    "print(\"The square footage of the house is:\", square_footage, \"sqft\")\n",
    "\n",
    "radius = float(input(\"Enter the radius of the circle in feet: \"))\n",
    "circumference = my_module.calculate_circumference(radius)\n",
    "print(\"The circumference of the circle is:\", circumference, \"ft\")\n",
    "\n",
    "feet = float(input(\"Enter a length in feet: \"))\n",
    "inches = my_module.feet_to_inches(feet)\n",
    "print(feet, \"feet is equal to\", inches, \"inches\")\n"
   ]
  }
 ],
 "metadata": {
  "kernelspec": {
   "display_name": "Python 3",
   "language": "python",
   "name": "python3"
  },
  "language_info": {
   "codemirror_mode": {
    "name": "ipython",
    "version": 3
   },
   "file_extension": ".py",
   "mimetype": "text/x-python",
   "name": "python",
   "nbconvert_exporter": "python",
   "pygments_lexer": "ipython3",
   "version": "3.10.5"
  },
  "orig_nbformat": 4
 },
 "nbformat": 4,
 "nbformat_minor": 2
}
