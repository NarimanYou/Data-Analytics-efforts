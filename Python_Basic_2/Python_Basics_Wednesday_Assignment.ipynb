{
 "cells": [
  {
   "attachments": {},
   "cell_type": "markdown",
   "metadata": {},
   "source": [
    "# Coding Temple's Data Analytics Program\n",
    "---\n",
    "## Python Basics Assignment 3\n",
    "---"
   ]
  },
  {
   "attachments": {},
   "cell_type": "markdown",
   "metadata": {},
   "source": [
    "### **Task 1: Build a Shopping Cart**\n",
    "**You can use either lists or dictionaries. The program should have the following capabilites:**\n",
    "* Takes a string as an input\n",
    "* Stores user input in a dictionary or list\n",
    "* Users should be able to:\n",
    "    * Add Items\n",
    "    * Delete Items\n",
    "    * See current shopping cart\n",
    "* The program should loop until user 'quits'\n",
    "* Upon quitting the program, print out all items in the user's list"
   ]
  },
  {
   "cell_type": "code",
   "execution_count": 16,
   "metadata": {},
   "outputs": [
    {
     "ename": "",
     "evalue": "",
     "output_type": "error",
     "traceback": [
      "\u001b[1;31mCanceled future for execute_request message before replies were done"
     ]
    }
   ],
   "source": [
    "from IPython.display import clear_output\n",
    "\n",
    "# Ask the user 5 bits of input: Do you want to : Show/Add/Delete/clear or Quit?\n",
    "# YOUR CODE HERE\n",
    "cart = {}\n",
    "\n",
    "while True:\n",
    "    question = input(\"Do you want to Show/Add/Delete/Clear or Quit? \").lower()\n",
    "    if question == 'quit':\n",
    "        break\n",
    "    elif question == 'show':\n",
    "        if cart:\n",
    "            print(\"Your shopping cart contains:\")\n",
    "            for item, qty in cart.items():\n",
    "                print(f\"- {item}: {qty}\")\n",
    "        else:\n",
    "            print(\"Your shopping cart is empty.\")\n",
    "    elif question == 'add':\n",
    "        item, qty = input(\"Enter an item and quantity to add to your cart (e.g. apples 3): \")\n",
    "        qty = int(qty)\n",
    "        cart[item] = cart.get(item, 0) + qty\n",
    "        print(f\"{qty} {item}(s) added to your cart.\")\n"
   ]
  },
  {
   "attachments": {},
   "cell_type": "markdown",
   "metadata": {},
   "source": [
    "### **Task 2: Create a Module and Import it**\n",
    "Create a Module in VS Code and import it into a Jupyter Notebook. \n",
    "\n",
    "**Your module should have the following capabilities:**\n",
    "* Has a function to calculate the square footage of a house\n",
    "* Has a function to calculate the circumference of a circle\n",
    "* Has a function to change feet to inches\n",
    "\n",
    "The program in Jupyter Notebook should take in user input and use the imported functions for their calculations!"
   ]
  },
  {
   "cell_type": "code",
   "execution_count": null,
   "metadata": {},
   "outputs": [],
   "source": []
  },
  {
   "attachments": {},
   "cell_type": "markdown",
   "metadata": {},
   "source": [
    "### **Task 3.1: Lists**\n",
    "Create 4 lists. Two of these lists should be keys, two of these lists should be values"
   ]
  },
  {
   "cell_type": "code",
   "execution_count": null,
   "metadata": {},
   "outputs": [],
   "source": [
    "\n",
    "keys1 = ['name', 'age', 'gender']\n",
    "keys2 = ['city', 'state', 'country']\n",
    "\n",
    "values1 = ['Nariman', 32, 'Male']\n",
    "values2 = ['Atlanta', 'GA', 'US']\n",
    "\n"
   ]
  },
  {
   "attachments": {},
   "cell_type": "markdown",
   "metadata": {},
   "source": [
    "### **Task 3.2: Create a function that converts two lists into a dictionary, then merges two dictionaries into one.**\n",
    "\n",
    "Using your 4 lists, create a function which combines the keys lists with the values lists into a dictionary, then merges and returns the two dictionaries together."
   ]
  },
  {
   "cell_type": "code",
   "execution_count": 11,
   "metadata": {},
   "outputs": [],
   "source": [
    "keys1 = ['name', 'age', 'gender']\n",
    "keys2 = ['city', 'state', 'country']\n",
    "values1 = ['Nariman', 32, 'Male']\n",
    "values2 = ['Atlanta', 'GA', 'US']\n",
    "\n",
    "def merge_dictionaries(keys1, values1, keys2, values2):\n",
    "    dict1 = {keys1[i]: values1[i] for i in range(len(keys1))}\n",
    "    dict2 = {keys2[i]: values2[i] for i in range(len(keys2))}\n",
    "    return {dict1, dict2}\n"
   ]
  }
 ],
 "metadata": {
  "kernelspec": {
   "display_name": "Python 3",
   "language": "python",
   "name": "python3"
  },
  "language_info": {
   "codemirror_mode": {
    "name": "ipython",
    "version": 3
   },
   "file_extension": ".py",
   "mimetype": "text/x-python",
   "name": "python",
   "nbconvert_exporter": "python",
   "pygments_lexer": "ipython3",
   "version": "3.10.5"
  },
  "orig_nbformat": 4,
  "vscode": {
   "interpreter": {
    "hash": "26de051ba29f2982a8de78e945f0abaf191376122a1563185a90213a26c5da77"
   }
  }
 },
 "nbformat": 4,
 "nbformat_minor": 2
}
